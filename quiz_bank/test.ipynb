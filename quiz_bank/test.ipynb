{
 "cells": [
  {
   "cell_type": "code",
   "execution_count": 3,
   "metadata": {},
   "outputs": [],
   "source": [
    "test = [{\"question\": \"1+1=?\", \"answer\": [\"2\", \"3\", \"4 minus 2\", \"5\"], \"key\": [\"2\", \"4 minus 2\"], \"id\": 3, \"question_type\": \"MCQ\", \"points\": 1}, {\"question\": \"A good test document should be\", \"answer\": [\"Follow requirement closely\", \"Easy to maintain and update\", \"A, B and easy for others to understand\", \"A & B\"], \"key\": [\"A, B and easy for others to understand\"], \"id\": 2, \"question_type\": \"MCQ\", \"points\": 1}]"
   ]
  },
  {
   "cell_type": "code",
   "execution_count": 12,
   "metadata": {},
   "outputs": [],
   "source": [
    "def get_index_from_id(question_list:list, id:int):\n",
    "    return (tuple(index for index, question in enumerate(question_list) if question['id'] == id))[0]"
   ]
  },
  {
   "cell_type": "code",
   "execution_count": 13,
   "metadata": {},
   "outputs": [
    {
     "data": {
      "text/plain": [
       "1"
      ]
     },
     "execution_count": 13,
     "metadata": {},
     "output_type": "execute_result"
    }
   ],
   "source": [
    "get_index_from_id(test, 2)"
   ]
  },
  {
   "cell_type": "code",
   "execution_count": 14,
   "metadata": {},
   "outputs": [
    {
     "data": {
      "text/plain": [
       "{'question': 'A good test document should be',\n",
       " 'answer': ['Follow requirement closely',\n",
       "  'Easy to maintain and update',\n",
       "  'A, B and easy for others to understand',\n",
       "  'A & B'],\n",
       " 'key': ['A, B and easy for others to understand'],\n",
       " 'id': 2,\n",
       " 'question_type': 'MCQ',\n",
       " 'points': 1}"
      ]
     },
     "execution_count": 14,
     "metadata": {},
     "output_type": "execute_result"
    }
   ],
   "source": [
    "test.pop(get_index_from_id(test, 2))"
   ]
  },
  {
   "cell_type": "code",
   "execution_count": 15,
   "metadata": {},
   "outputs": [
    {
     "data": {
      "text/plain": [
       "[{'question': '1+1=?',\n",
       "  'answer': ['2', '3', '4 minus 2', '5'],\n",
       "  'key': ['2', '4 minus 2'],\n",
       "  'id': 3,\n",
       "  'question_type': 'MCQ',\n",
       "  'points': 1}]"
      ]
     },
     "execution_count": 15,
     "metadata": {},
     "output_type": "execute_result"
    }
   ],
   "source": [
    "test"
   ]
  },
  {
   "cell_type": "code",
   "execution_count": 1,
   "metadata": {},
   "outputs": [],
   "source": [
    "from dataclasses import dataclass"
   ]
  },
  {
   "cell_type": "code",
   "execution_count": 11,
   "metadata": {},
   "outputs": [],
   "source": [
    "@dataclass(slots=True, kw_only=True)\n",
    "class Question:\n",
    "    id: int\n",
    "    question: str\n",
    "    answer: list[str]\n",
    "    key: list[str]\n",
    "    question_type: str\n",
    "    points: int\n"
   ]
  },
  {
   "cell_type": "code",
   "execution_count": 12,
   "metadata": {},
   "outputs": [
    {
     "name": "stdout",
     "output_type": "stream",
     "text": [
      "Question(id=1, question='1+1=?', answer=['1', '2'], key=['2'], question_type='MCQ', points=1) Question(id=2, question='2+2=?', answer=['2', '4'], key=['4'], question_type='MCQ', points=1)\n"
     ]
    }
   ],
   "source": [
    "q1 = Question(id=1, question='1+1=?', answer=['1', '2'], key=['2'], question_type='MCQ', points=1)\n",
    "q2 = Question(id=2, question='2+2=?', answer=['2', '4'], key=['4'], question_type='MCQ', points=1)\n",
    "print(q1, q2)"
   ]
  },
  {
   "cell_type": "code",
   "execution_count": 13,
   "metadata": {},
   "outputs": [
    {
     "data": {
      "text/plain": [
       "1"
      ]
     },
     "execution_count": 13,
     "metadata": {},
     "output_type": "execute_result"
    }
   ],
   "source": [
    "q1.id"
   ]
  },
  {
   "cell_type": "code",
   "execution_count": 14,
   "metadata": {},
   "outputs": [
    {
     "data": {
      "text/plain": [
       "[Question(id=1, question='1+1=?', answer=['1', '2'], key=['2'], question_type='MCQ', points=1),\n",
       " Question(id=2, question='2+2=?', answer=['2', '4'], key=['4'], question_type='MCQ', points=1)]"
      ]
     },
     "execution_count": 14,
     "metadata": {},
     "output_type": "execute_result"
    }
   ],
   "source": [
    "question_list = [q1, q2]\n",
    "question_list"
   ]
  },
  {
   "cell_type": "code",
   "execution_count": 15,
   "metadata": {},
   "outputs": [
    {
     "data": {
      "text/plain": [
       "Question(id=2, question='2+2=?', answer=['2', '4'], key=['4', '2'], question_type='MCQ', points=1)"
      ]
     },
     "execution_count": 15,
     "metadata": {},
     "output_type": "execute_result"
    }
   ],
   "source": [
    "q2.key = ['4', '2']\n",
    "q2"
   ]
  },
  {
   "cell_type": "code",
   "execution_count": 16,
   "metadata": {},
   "outputs": [
    {
     "data": {
      "text/plain": [
       "[Question(id=1, question='1+1=?', answer=['1', '2'], key=['2'], question_type='MCQ', points=1),\n",
       " Question(id=2, question='2+2=?', answer=['2', '4'], key=['4', '2'], question_type='MCQ', points=1)]"
      ]
     },
     "execution_count": 16,
     "metadata": {},
     "output_type": "execute_result"
    }
   ],
   "source": [
    "question_list"
   ]
  },
  {
   "cell_type": "code",
   "execution_count": 18,
   "metadata": {},
   "outputs": [
    {
     "data": {
      "text/plain": [
       "[Question(id=1, question='1+1=?', answer=['1', '2'], key=['2'], question_type='MCQ', points=1),\n",
       " Question(id=2, question='2+2=?', answer=['2', '4'], key=['4'], question_type='MCQ', points=1)]"
      ]
     },
     "execution_count": 18,
     "metadata": {},
     "output_type": "execute_result"
    }
   ],
   "source": [
    "question_list[1].key = ['4']\n",
    "question_list"
   ]
  },
  {
   "cell_type": "code",
   "execution_count": 19,
   "metadata": {},
   "outputs": [
    {
     "data": {
      "text/plain": [
       "Question(id=2, question='2+2=?', answer=['2', '4'], key=['4'], question_type='MCQ', points=1)"
      ]
     },
     "execution_count": 19,
     "metadata": {},
     "output_type": "execute_result"
    }
   ],
   "source": [
    "q2"
   ]
  },
  {
   "cell_type": "code",
   "execution_count": 20,
   "metadata": {},
   "outputs": [],
   "source": [
    "test_dict = {'question': '1+1=?',\n",
    "  'answer': ['2', '3', '4 minus 2', '5'],\n",
    "  'key': ['2', '4 minus 2'],\n",
    "  'id': 3,\n",
    "  'question_type': 'MCQ',\n",
    "  'points': 1}"
   ]
  },
  {
   "cell_type": "code",
   "execution_count": 21,
   "metadata": {},
   "outputs": [
    {
     "data": {
      "text/plain": [
       "Question(id=3, question='1+1=?', answer=['2', '3', '4 minus 2', '5'], key=['2', '4 minus 2'], question_type='MCQ', points=1)"
      ]
     },
     "execution_count": 21,
     "metadata": {},
     "output_type": "execute_result"
    }
   ],
   "source": [
    "Question(**test_dict)"
   ]
  }
 ],
 "metadata": {
  "kernelspec": {
   "display_name": "env3115",
   "language": "python",
   "name": "python3"
  },
  "language_info": {
   "codemirror_mode": {
    "name": "ipython",
    "version": 3
   },
   "file_extension": ".py",
   "mimetype": "text/x-python",
   "name": "python",
   "nbconvert_exporter": "python",
   "pygments_lexer": "ipython3",
   "version": "3.11.5"
  }
 },
 "nbformat": 4,
 "nbformat_minor": 2
}
