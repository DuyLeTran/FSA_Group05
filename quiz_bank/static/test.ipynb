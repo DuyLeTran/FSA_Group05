{
 "cells": [
  {
   "cell_type": "code",
   "execution_count": 1,
   "metadata": {},
   "outputs": [],
   "source": [
    "import pandas as pd\n",
    "import numpy as np\n"
   ]
  },
  {
   "cell_type": "code",
   "execution_count": 3,
   "metadata": {},
   "outputs": [
    {
     "data": {
      "text/html": [
       "<div>\n",
       "<style scoped>\n",
       "    .dataframe tbody tr th:only-of-type {\n",
       "        vertical-align: middle;\n",
       "    }\n",
       "\n",
       "    .dataframe tbody tr th {\n",
       "        vertical-align: top;\n",
       "    }\n",
       "\n",
       "    .dataframe thead th {\n",
       "        text-align: right;\n",
       "    }\n",
       "</style>\n",
       "<table border=\"1\" class=\"dataframe\">\n",
       "  <thead>\n",
       "    <tr style=\"text-align: right;\">\n",
       "      <th></th>\n",
       "      <th>question</th>\n",
       "      <th>chapter</th>\n",
       "      <th>points</th>\n",
       "      <th>correct</th>\n",
       "    </tr>\n",
       "  </thead>\n",
       "  <tbody>\n",
       "    <tr>\n",
       "      <th>0</th>\n",
       "      <td>1+1=</td>\n",
       "      <td>chap1</td>\n",
       "      <td>1</td>\n",
       "      <td>2</td>\n",
       "    </tr>\n",
       "    <tr>\n",
       "      <th>1</th>\n",
       "      <td>100/2=</td>\n",
       "      <td>chap2</td>\n",
       "      <td>1</td>\n",
       "      <td>50</td>\n",
       "    </tr>\n",
       "    <tr>\n",
       "      <th>2</th>\n",
       "      <td>50-50=</td>\n",
       "      <td>chap3</td>\n",
       "      <td>1</td>\n",
       "      <td>0</td>\n",
       "    </tr>\n",
       "  </tbody>\n",
       "</table>\n",
       "</div>"
      ],
      "text/plain": [
       "  question chapter  points  correct\n",
       "0     1+1=   chap1       1        2\n",
       "1   100/2=   chap2       1       50\n",
       "2   50-50=   chap3       1        0"
      ]
     },
     "execution_count": 3,
     "metadata": {},
     "output_type": "execute_result"
    }
   ],
   "source": [
    "df = pd.read_excel(r'D:\\lms\\2024_10_29_lms\\LMS-with-Django-main_0411\\quiz_bank\\static\\excel\\TEXT.xlsx')\n",
    "df"
   ]
  },
  {
   "cell_type": "code",
   "execution_count": 4,
   "metadata": {},
   "outputs": [
    {
     "data": {
      "text/html": [
       "<div>\n",
       "<style scoped>\n",
       "    .dataframe tbody tr th:only-of-type {\n",
       "        vertical-align: middle;\n",
       "    }\n",
       "\n",
       "    .dataframe tbody tr th {\n",
       "        vertical-align: top;\n",
       "    }\n",
       "\n",
       "    .dataframe thead th {\n",
       "        text-align: right;\n",
       "    }\n",
       "</style>\n",
       "<table border=\"1\" class=\"dataframe\">\n",
       "  <thead>\n",
       "    <tr style=\"text-align: right;\">\n",
       "      <th></th>\n",
       "      <th>question</th>\n",
       "      <th>chapter</th>\n",
       "      <th>points</th>\n",
       "      <th>correct</th>\n",
       "    </tr>\n",
       "  </thead>\n",
       "  <tbody>\n",
       "    <tr>\n",
       "      <th>0</th>\n",
       "      <td>1+1=</td>\n",
       "      <td>chap1</td>\n",
       "      <td>1</td>\n",
       "      <td>2</td>\n",
       "    </tr>\n",
       "    <tr>\n",
       "      <th>1</th>\n",
       "      <td>100/2=</td>\n",
       "      <td>chap2</td>\n",
       "      <td>1</td>\n",
       "      <td>50</td>\n",
       "    </tr>\n",
       "    <tr>\n",
       "      <th>2</th>\n",
       "      <td>50-50=</td>\n",
       "      <td>chap3</td>\n",
       "      <td>1</td>\n",
       "      <td>0</td>\n",
       "    </tr>\n",
       "  </tbody>\n",
       "</table>\n",
       "</div>"
      ],
      "text/plain": [
       "  question chapter  points  correct\n",
       "0     1+1=   chap1       1        2\n",
       "1   100/2=   chap2       1       50\n",
       "2   50-50=   chap3       1        0"
      ]
     },
     "execution_count": 4,
     "metadata": {},
     "output_type": "execute_result"
    }
   ],
   "source": [
    "df.fillna('', inplace=True)\n",
    "df"
   ]
  },
  {
   "cell_type": "code",
   "execution_count": null,
   "metadata": {},
   "outputs": [],
   "source": [
    "for i, (index, row) in enumerate(df.iterrows()):\n",
    "    # if index == 8:\n",
    "        options = [f'options[{i}]' for i in ['a', 'b', 'c', 'd', 'e', 'f', 'g']]\n",
    "        chapter = \n",
    "        question = str(row.get('question')).strip()\n",
    "        answer = pd.DataFrame(row.get(options))\n",
    "        true_answer = str(row.get('correct')).strip()\n",
    "        print(question, true_answer, sep='\\n')\n",
    "        answer = answer.loc[answer[i] != '']\n",
    "        answer_list = answer[i].to_list()\n",
    "        answer_list = list(map(lambda x : x.strip(), answer_list))\n",
    "        # alter_key_list = [(key==true_answer) for key in answer_list]\n",
    "        alter_key_list = list(map(lambda x: x == true_answer, answer_list))\n",
    "        print(answer_list, sep='\\n')\n",
    "        print(alter_key_list)"
   ]
  },
  {
   "cell_type": "code",
   "execution_count": 6,
   "metadata": {},
   "outputs": [
    {
     "name": "stdout",
     "output_type": "stream",
     "text": [
      "Empty DataFrame\n",
      "Columns: []\n",
      "Index: []\n"
     ]
    },
    {
     "ename": "KeyError",
     "evalue": "0",
     "output_type": "error",
     "traceback": [
      "\u001b[1;31m---------------------------------------------------------------------------\u001b[0m",
      "\u001b[1;31mValueError\u001b[0m                                Traceback (most recent call last)",
      "File \u001b[1;32mc:\\Users\\ADMIN\\.conda\\envs\\env3115\\Lib\\site-packages\\pandas\\core\\indexes\\range.py:413\u001b[0m, in \u001b[0;36mRangeIndex.get_loc\u001b[1;34m(self, key)\u001b[0m\n\u001b[0;32m    412\u001b[0m \u001b[38;5;28;01mtry\u001b[39;00m:\n\u001b[1;32m--> 413\u001b[0m     \u001b[38;5;28;01mreturn\u001b[39;00m \u001b[38;5;28;43mself\u001b[39;49m\u001b[38;5;241;43m.\u001b[39;49m\u001b[43m_range\u001b[49m\u001b[38;5;241;43m.\u001b[39;49m\u001b[43mindex\u001b[49m\u001b[43m(\u001b[49m\u001b[43mnew_key\u001b[49m\u001b[43m)\u001b[49m\n\u001b[0;32m    414\u001b[0m \u001b[38;5;28;01mexcept\u001b[39;00m \u001b[38;5;167;01mValueError\u001b[39;00m \u001b[38;5;28;01mas\u001b[39;00m err:\n",
      "\u001b[1;31mValueError\u001b[0m: 0 is not in range",
      "\nThe above exception was the direct cause of the following exception:\n",
      "\u001b[1;31mKeyError\u001b[0m                                  Traceback (most recent call last)",
      "Cell \u001b[1;32mIn[6], line 9\u001b[0m\n\u001b[0;32m      7\u001b[0m true_answer \u001b[38;5;241m=\u001b[39m \u001b[38;5;28mstr\u001b[39m(row\u001b[38;5;241m.\u001b[39mget(\u001b[38;5;124m'\u001b[39m\u001b[38;5;124mcorrect\u001b[39m\u001b[38;5;124m'\u001b[39m))\u001b[38;5;241m.\u001b[39msplit(\u001b[38;5;124m'\u001b[39m\u001b[38;5;124m,\u001b[39m\u001b[38;5;124m'\u001b[39m)\n\u001b[0;32m      8\u001b[0m \u001b[38;5;66;03m# print(question, answer, true_answer, sep='\\n')\u001b[39;00m\n\u001b[1;32m----> 9\u001b[0m answer \u001b[38;5;241m=\u001b[39m answer\u001b[38;5;241m.\u001b[39mloc[\u001b[43manswer\u001b[49m\u001b[43m[\u001b[49m\u001b[43mi\u001b[49m\u001b[43m]\u001b[49m \u001b[38;5;241m!=\u001b[39m \u001b[38;5;124m'\u001b[39m\u001b[38;5;124m'\u001b[39m]\n\u001b[0;32m     10\u001b[0m answer_list \u001b[38;5;241m=\u001b[39m answer[i]\u001b[38;5;241m.\u001b[39mto_list()\n\u001b[0;32m     11\u001b[0m \u001b[38;5;28mprint\u001b[39m(true_answer)\n",
      "File \u001b[1;32mc:\\Users\\ADMIN\\.conda\\envs\\env3115\\Lib\\site-packages\\pandas\\core\\frame.py:4102\u001b[0m, in \u001b[0;36mDataFrame.__getitem__\u001b[1;34m(self, key)\u001b[0m\n\u001b[0;32m   4100\u001b[0m \u001b[38;5;28;01mif\u001b[39;00m \u001b[38;5;28mself\u001b[39m\u001b[38;5;241m.\u001b[39mcolumns\u001b[38;5;241m.\u001b[39mnlevels \u001b[38;5;241m>\u001b[39m \u001b[38;5;241m1\u001b[39m:\n\u001b[0;32m   4101\u001b[0m     \u001b[38;5;28;01mreturn\u001b[39;00m \u001b[38;5;28mself\u001b[39m\u001b[38;5;241m.\u001b[39m_getitem_multilevel(key)\n\u001b[1;32m-> 4102\u001b[0m indexer \u001b[38;5;241m=\u001b[39m \u001b[38;5;28;43mself\u001b[39;49m\u001b[38;5;241;43m.\u001b[39;49m\u001b[43mcolumns\u001b[49m\u001b[38;5;241;43m.\u001b[39;49m\u001b[43mget_loc\u001b[49m\u001b[43m(\u001b[49m\u001b[43mkey\u001b[49m\u001b[43m)\u001b[49m\n\u001b[0;32m   4103\u001b[0m \u001b[38;5;28;01mif\u001b[39;00m is_integer(indexer):\n\u001b[0;32m   4104\u001b[0m     indexer \u001b[38;5;241m=\u001b[39m [indexer]\n",
      "File \u001b[1;32mc:\\Users\\ADMIN\\.conda\\envs\\env3115\\Lib\\site-packages\\pandas\\core\\indexes\\range.py:415\u001b[0m, in \u001b[0;36mRangeIndex.get_loc\u001b[1;34m(self, key)\u001b[0m\n\u001b[0;32m    413\u001b[0m         \u001b[38;5;28;01mreturn\u001b[39;00m \u001b[38;5;28mself\u001b[39m\u001b[38;5;241m.\u001b[39m_range\u001b[38;5;241m.\u001b[39mindex(new_key)\n\u001b[0;32m    414\u001b[0m     \u001b[38;5;28;01mexcept\u001b[39;00m \u001b[38;5;167;01mValueError\u001b[39;00m \u001b[38;5;28;01mas\u001b[39;00m err:\n\u001b[1;32m--> 415\u001b[0m         \u001b[38;5;28;01mraise\u001b[39;00m \u001b[38;5;167;01mKeyError\u001b[39;00m(key) \u001b[38;5;28;01mfrom\u001b[39;00m \u001b[38;5;21;01merr\u001b[39;00m\n\u001b[0;32m    416\u001b[0m \u001b[38;5;28;01mif\u001b[39;00m \u001b[38;5;28misinstance\u001b[39m(key, Hashable):\n\u001b[0;32m    417\u001b[0m     \u001b[38;5;28;01mraise\u001b[39;00m \u001b[38;5;167;01mKeyError\u001b[39;00m(key)\n",
      "\u001b[1;31mKeyError\u001b[0m: 0"
     ]
    }
   ],
   "source": [
    "for i, (index, row) in enumerate(df.iterrows()):\n",
    "    options = [f'options[{i}]' for i in ['a', 'b', 'c', 'd', 'e', 'f', 'g']]\n",
    "    chapter = str(row.get('chapter'))\n",
    "    question = str(row.get('question'))\n",
    "    answer = pd.DataFrame(row.get(options))\n",
    "    print(answer)\n",
    "    true_answer = str(row.get('correct')).split(',')\n",
    "    # print(question, answer, true_answer, sep='\\n')\n",
    "    answer = answer.loc[answer[i] != '']\n",
    "    answer_list = answer[i].to_list()\n",
    "    print(true_answer)\n",
    "    for a in answer_list:\n",
    "        print(a)\n",
    "    # print(answer_list, key_list, sep='\\n')"
   ]
  },
  {
   "cell_type": "code",
   "execution_count": 21,
   "metadata": {},
   "outputs": [
    {
     "name": "stdout",
     "output_type": "stream",
     "text": [
      "Test cases are designed based on\n",
      "['c']\n",
      "['Software requirement specification', ' Detail Design document', 'A & B and test plan document', 'A & B']\n",
      "['A & B and test plan document']\n",
      "1\n",
      "A good test document should be\n",
      "['c']\n",
      "['Follow requirement closely', 'Easy to maintain and update', 'A, B and easy for others to understand', 'A & B']\n",
      "['A, B and easy for others to understand']\n",
      "1\n",
      "1+1=?\n",
      "['a', 'c']\n",
      "[2, 3, '4 minus 2', 5]\n",
      "[2, '4 minus 2']\n",
      "1\n",
      "10*10=?\n",
      "['b', 'c', 'd']\n",
      "[10, 100, 'sqrt(10000)', 'cube root of 1000000']\n",
      "[100, 'sqrt(10000)', 'cube root of 1000000']\n",
      "1\n"
     ]
    }
   ],
   "source": [
    "from_option_to_index = dict(list(zip(['a', 'b', 'c', 'd', 'e', 'f', 'g'], [i for i in range(0, 7)])))\n",
    "for i, (index, row) in enumerate(df.iterrows()):\n",
    "    options = [f'options[{i}]' for i in ['a', 'b', 'c', 'd', 'e', 'f', 'g']]\n",
    "    question = str(row.get('question'))\n",
    "    answer = pd.DataFrame(row.get(options))\n",
    "    points = int(str(row.get('points')).strip())\n",
    "    true_answer = str(row.get('correct')).split(',')\n",
    "    # print(question, answer, true_answer, sep='\\n')\n",
    "    answer = answer.loc[answer[i] != '']\n",
    "    answer_list = answer[i].to_list()\n",
    "    transtated_key = [answer_list[from_option_to_index[option]] for option in true_answer]\n",
    "    print(question)\n",
    "    print(true_answer)\n",
    "    print(answer_list)\n",
    "    print(transtated_key)\n",
    "    print(points)\n",
    "    # print(answer_list, key_list, sep='\\n')"
   ]
  },
  {
   "cell_type": "code",
   "execution_count": 12,
   "metadata": {},
   "outputs": [
    {
     "data": {
      "text/plain": [
       "{1: 'a', 2: 'b', 3: 'c', 4: 'd', 5: 'e', 6: 'f', 7: 'g'}"
      ]
     },
     "execution_count": 12,
     "metadata": {},
     "output_type": "execute_result"
    }
   ],
   "source": [
    "from_option_to_index = dict(enumerate(['a', 'b', 'c', 'd', 'e', 'f', 'g'], start=1))\n",
    "from_option_to_index"
   ]
  },
  {
   "cell_type": "code",
   "execution_count": 17,
   "metadata": {},
   "outputs": [
    {
     "data": {
      "text/plain": [
       "{'a': 1, 'b': 2, 'c': 3, 'd': 4, 'e': 5, 'f': 6, 'g': 7}"
      ]
     },
     "execution_count": 17,
     "metadata": {},
     "output_type": "execute_result"
    }
   ],
   "source": [
    "\n",
    "dict(list(zip(['a', 'b', 'c', 'd', 'e', 'f', 'g'], [i for i in range(1, 8)])))"
   ]
  },
  {
   "cell_type": "code",
   "execution_count": 26,
   "metadata": {},
   "outputs": [
    {
     "name": "stdout",
     "output_type": "stream",
     "text": [
      "['10', '100', 'sqrt(10000)', 'cube root of 1000000']\n",
      "[100, 'sqrt(10000)', 'cube root of 1000000']\n",
      "[False, True, True, True]\n"
     ]
    }
   ],
   "source": [
    "print(answer_list)\n",
    "print(transtated_key)\n",
    "answer_list = [str(item) for item in answer_list]\n",
    "answer_list = list(map(lambda x : x.strip(), answer_list))\n",
    "transtated_key = [str(item) for item in transtated_key]\n",
    "key_list = [i in transtated_key for i in answer_list]\n",
    "print(key_list)"
   ]
  },
  {
   "cell_type": "code",
   "execution_count": 32,
   "metadata": {},
   "outputs": [
    {
     "data": {
      "text/html": [
       "<div>\n",
       "<style scoped>\n",
       "    .dataframe tbody tr th:only-of-type {\n",
       "        vertical-align: middle;\n",
       "    }\n",
       "\n",
       "    .dataframe tbody tr th {\n",
       "        vertical-align: top;\n",
       "    }\n",
       "\n",
       "    .dataframe thead th {\n",
       "        text-align: right;\n",
       "    }\n",
       "</style>\n",
       "<table border=\"1\" class=\"dataframe\">\n",
       "  <thead>\n",
       "    <tr style=\"text-align: right;\">\n",
       "      <th></th>\n",
       "      <th>question</th>\n",
       "      <th>points</th>\n",
       "      <th>correct</th>\n",
       "      <th>options[a]</th>\n",
       "      <th>options[b]</th>\n",
       "    </tr>\n",
       "  </thead>\n",
       "  <tbody>\n",
       "    <tr>\n",
       "      <th>0</th>\n",
       "      <td>1+1=2</td>\n",
       "      <td>1</td>\n",
       "      <td>a</td>\n",
       "      <td>True</td>\n",
       "      <td>False</td>\n",
       "    </tr>\n",
       "    <tr>\n",
       "      <th>1</th>\n",
       "      <td>2+2=5</td>\n",
       "      <td>1</td>\n",
       "      <td>b</td>\n",
       "      <td>True</td>\n",
       "      <td>False</td>\n",
       "    </tr>\n",
       "  </tbody>\n",
       "</table>\n",
       "</div>"
      ],
      "text/plain": [
       "  question  points correct  options[a]  options[b]\n",
       "0    1+1=2       1       a        True       False\n",
       "1    2+2=5       1       b        True       False"
      ]
     },
     "execution_count": 32,
     "metadata": {},
     "output_type": "execute_result"
    }
   ],
   "source": [
    "df = pd.read_excel(r'D:\\lms\\2024_10_29_lms\\LMS-FSA\\quiz_bank\\static\\excel\\TF.xlsx')\n",
    "df"
   ]
  },
  {
   "cell_type": "code",
   "execution_count": 33,
   "metadata": {},
   "outputs": [
    {
     "name": "stdout",
     "output_type": "stream",
     "text": [
      "1+1=2\n",
      "a\n",
      "[True, False]\n",
      "[True]\n",
      "1\n",
      "2+2=5\n",
      "b\n",
      "[True, False]\n",
      "[False]\n",
      "1\n"
     ]
    }
   ],
   "source": [
    "from_option_to_index = dict(list(zip(['a', 'b'], [i for i in range(0, 2)])))\n",
    "for i, (index, row) in enumerate(df.iterrows()):\n",
    "    options = [f'options[{i}]' for i in ['a', 'b']]\n",
    "    question = str(row.get('question'))\n",
    "    answer = pd.DataFrame(row.get(options))\n",
    "    points = int(str(row.get('points')).strip())\n",
    "    true_answer = str(row.get('correct'))\n",
    "    # print(question, answer, true_answer, sep='\\n')\n",
    "    answer = answer.loc[answer[i] != '']\n",
    "    answer_list = answer[i].to_list()\n",
    "    transtated_key = [answer_list[from_option_to_index[option]] for option in true_answer]\n",
    "    print(question)\n",
    "    print(true_answer)\n",
    "    print(answer_list)\n",
    "    print(transtated_key)\n",
    "    print(points)\n",
    "    # print(answer_list, key_list, sep='\\n')"
   ]
  },
  {
   "cell_type": "code",
   "execution_count": 34,
   "metadata": {},
   "outputs": [
    {
     "name": "stdout",
     "output_type": "stream",
     "text": [
      "[True, False]\n",
      "[False]\n",
      "[False, True]\n"
     ]
    }
   ],
   "source": [
    "print(answer_list)\n",
    "print(transtated_key)\n",
    "answer_list = [str(item) for item in answer_list]\n",
    "answer_list = list(map(lambda x : x.strip(), answer_list))\n",
    "transtated_key = [str(item) for item in transtated_key]\n",
    "key_list = [i in transtated_key for i in answer_list]\n",
    "print(key_list)"
   ]
  },
  {
   "cell_type": "code",
   "execution_count": 35,
   "metadata": {},
   "outputs": [
    {
     "data": {
      "text/html": [
       "<div>\n",
       "<style scoped>\n",
       "    .dataframe tbody tr th:only-of-type {\n",
       "        vertical-align: middle;\n",
       "    }\n",
       "\n",
       "    .dataframe tbody tr th {\n",
       "        vertical-align: top;\n",
       "    }\n",
       "\n",
       "    .dataframe thead th {\n",
       "        text-align: right;\n",
       "    }\n",
       "</style>\n",
       "<table border=\"1\" class=\"dataframe\">\n",
       "  <thead>\n",
       "    <tr style=\"text-align: right;\">\n",
       "      <th></th>\n",
       "      <th>question</th>\n",
       "      <th>correct</th>\n",
       "    </tr>\n",
       "  </thead>\n",
       "  <tbody>\n",
       "    <tr>\n",
       "      <th>0</th>\n",
       "      <td>1+1=</td>\n",
       "      <td>2</td>\n",
       "    </tr>\n",
       "    <tr>\n",
       "      <th>1</th>\n",
       "      <td>100/2=</td>\n",
       "      <td>50</td>\n",
       "    </tr>\n",
       "  </tbody>\n",
       "</table>\n",
       "</div>"
      ],
      "text/plain": [
       "  question  correct\n",
       "0     1+1=        2\n",
       "1   100/2=       50"
      ]
     },
     "execution_count": 35,
     "metadata": {},
     "output_type": "execute_result"
    }
   ],
   "source": [
    "df = pd.read_excel(r'D:\\lms\\2024_10_29_lms\\LMS-FSA\\quiz_bank\\static\\excel\\TEXT.xlsx')\n",
    "df"
   ]
  },
  {
   "cell_type": "code",
   "execution_count": 36,
   "metadata": {},
   "outputs": [
    {
     "name": "stdout",
     "output_type": "stream",
     "text": [
      "1+1=\n",
      "2\n",
      "100/2=\n",
      "50\n"
     ]
    }
   ],
   "source": [
    "for i, (index, row) in enumerate(df.iterrows()):\n",
    "    question = str(row.get('question'))\n",
    "    true_answer = str(row.get('correct'))\n",
    "    print(question)\n",
    "    print(true_answer)\n",
    "    "
   ]
  },
  {
   "cell_type": "code",
   "execution_count": 8,
   "metadata": {},
   "outputs": [
    {
     "data": {
      "text/plain": [
       "[(1, 'chap1'), (2, 'chap2')]"
      ]
     },
     "execution_count": 8,
     "metadata": {},
     "output_type": "execute_result"
    }
   ],
   "source": [
    "list(enumerate(['chap1', 'chap2'], start=1))"
   ]
  },
  {
   "cell_type": "code",
   "execution_count": 9,
   "metadata": {},
   "outputs": [
    {
     "ename": "SyntaxError",
     "evalue": "did you forget parentheses around the comprehension target? (3248418679.py, line 1)",
     "output_type": "error",
     "traceback": [
      "\u001b[1;36m  Cell \u001b[1;32mIn[9], line 1\u001b[1;36m\u001b[0m\n\u001b[1;33m    [('all', 'All'), (i, i) for i in enumerate([1, 2, 3])]\u001b[0m\n\u001b[1;37m     ^\u001b[0m\n\u001b[1;31mSyntaxError\u001b[0m\u001b[1;31m:\u001b[0m did you forget parentheses around the comprehension target?\n"
     ]
    }
   ],
   "source": [
    "[('all', 'All'), (i, i) for i in enumerate([1, 2, 3])]"
   ]
  },
  {
   "cell_type": "code",
   "execution_count": 17,
   "metadata": {},
   "outputs": [
    {
     "data": {
      "text/plain": [
       "[('all', 'All'), (1, 1), (2, 2), (3, 3)]"
      ]
     },
     "execution_count": 17,
     "metadata": {},
     "output_type": "execute_result"
    }
   ],
   "source": [
    "[('all', 'All'),*tuple((i, i) for i in [1, 2, 3])]"
   ]
  }
 ],
 "metadata": {
  "kernelspec": {
   "display_name": "env3115",
   "language": "python",
   "name": "python3"
  },
  "language_info": {
   "codemirror_mode": {
    "name": "ipython",
    "version": 3
   },
   "file_extension": ".py",
   "mimetype": "text/x-python",
   "name": "python",
   "nbconvert_exporter": "python",
   "pygments_lexer": "ipython3",
   "version": "3.11.5"
  }
 },
 "nbformat": 4,
 "nbformat_minor": 2
}
